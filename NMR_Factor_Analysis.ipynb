{
 "cells": [
  {
   "cell_type": "markdown",
   "metadata": {
    "deletable": true,
    "editable": true
   },
   "source": [
    "# NMR Factor analysis\n",
    "Replication of \n",
    "*Jain, V., Minh, C. C., Heaton, N., Ferraris, P., Ortenzi, L., & Ribeiro, M. T. (2013, January 1). Characterization of Underlying Pore and Fluid Structure Using Factor Analysis on NMR Data. Society of Petrophysicists and Well-Log Analysts.*\n",
    "## Loading and viewing the data"
   ]
  },
  {
   "cell_type": "code",
   "execution_count": 1,
   "metadata": {
    "collapsed": false,
    "deletable": true,
    "editable": true
   },
   "outputs": [],
   "source": [
    "import lasio\n",
    "import numpy as np\n",
    "import pandas as pd\n",
    "import matplotlib.pyplot as plt\n",
    "%matplotlib inline"
   ]
  },
  {
   "cell_type": "code",
   "execution_count": 2,
   "metadata": {
    "collapsed": false,
    "deletable": true,
    "editable": true
   },
   "outputs": [
    {
     "name": "stderr",
     "output_type": "stream",
     "text": [
      "LAS spec version is 3.0 -- neither 1.2 nor 2\n"
     ]
    },
    {
     "data": {
      "text/html": [
       "<div>\n",
       "<table border=\"1\" class=\"dataframe\">\n",
       "  <thead>\n",
       "    <tr style=\"text-align: right;\">\n",
       "      <th></th>\n",
       "      <th>T2DIST_DI_CMR[0]</th>\n",
       "      <th>T2DIST_DI_CMR[1]</th>\n",
       "      <th>T2DIST_DI_CMR[2]</th>\n",
       "      <th>T2DIST_DI_CMR[3]</th>\n",
       "      <th>T2DIST_DI_CMR[4]</th>\n",
       "      <th>T2DIST_DI_CMR[5]</th>\n",
       "      <th>T2DIST_DI_CMR[6]</th>\n",
       "      <th>T2DIST_DI_CMR[7]</th>\n",
       "      <th>T2DIST_DI_CMR[8]</th>\n",
       "      <th>T2DIST_DI_CMR[9]</th>\n",
       "      <th>...</th>\n",
       "      <th>T2DIST_DI_CMR[54]</th>\n",
       "      <th>T2DIST_DI_CMR[55]</th>\n",
       "      <th>T2DIST_DI_CMR[56]</th>\n",
       "      <th>T2DIST_DI_CMR[57]</th>\n",
       "      <th>T2DIST_DI_CMR[58]</th>\n",
       "      <th>T2DIST_DI_CMR[59]</th>\n",
       "      <th>T2DIST_DI_CMR[60]</th>\n",
       "      <th>T2DIST_DI_CMR[61]</th>\n",
       "      <th>T2DIST_DI_CMR[62]</th>\n",
       "      <th>T2DIST_DI_CMR[63]</th>\n",
       "    </tr>\n",
       "  </thead>\n",
       "  <tbody>\n",
       "    <tr>\n",
       "      <th>count</th>\n",
       "      <td>1103.000000</td>\n",
       "      <td>1103.000000</td>\n",
       "      <td>1103.000000</td>\n",
       "      <td>1103.000000</td>\n",
       "      <td>1103.000000</td>\n",
       "      <td>1103.000000</td>\n",
       "      <td>1103.000000</td>\n",
       "      <td>1103.000000</td>\n",
       "      <td>1103.000000</td>\n",
       "      <td>1103.000000</td>\n",
       "      <td>...</td>\n",
       "      <td>1103.000000</td>\n",
       "      <td>1103.000000</td>\n",
       "      <td>1103.000000</td>\n",
       "      <td>1103.000000</td>\n",
       "      <td>1103.000000</td>\n",
       "      <td>1103.000000</td>\n",
       "      <td>1103.000000</td>\n",
       "      <td>1103.000000</td>\n",
       "      <td>1103.000000</td>\n",
       "      <td>1103.000000</td>\n",
       "    </tr>\n",
       "    <tr>\n",
       "      <th>mean</th>\n",
       "      <td>0.000835</td>\n",
       "      <td>0.000890</td>\n",
       "      <td>0.000910</td>\n",
       "      <td>0.000900</td>\n",
       "      <td>0.000867</td>\n",
       "      <td>0.000831</td>\n",
       "      <td>0.000812</td>\n",
       "      <td>0.000832</td>\n",
       "      <td>0.000868</td>\n",
       "      <td>0.000890</td>\n",
       "      <td>...</td>\n",
       "      <td>0.001577</td>\n",
       "      <td>0.001397</td>\n",
       "      <td>0.001252</td>\n",
       "      <td>0.001144</td>\n",
       "      <td>0.001078</td>\n",
       "      <td>0.001040</td>\n",
       "      <td>0.001017</td>\n",
       "      <td>0.001024</td>\n",
       "      <td>0.001144</td>\n",
       "      <td>0.001559</td>\n",
       "    </tr>\n",
       "    <tr>\n",
       "      <th>std</th>\n",
       "      <td>0.001656</td>\n",
       "      <td>0.001795</td>\n",
       "      <td>0.001870</td>\n",
       "      <td>0.001885</td>\n",
       "      <td>0.001860</td>\n",
       "      <td>0.001823</td>\n",
       "      <td>0.001819</td>\n",
       "      <td>0.001861</td>\n",
       "      <td>0.001935</td>\n",
       "      <td>0.001994</td>\n",
       "      <td>...</td>\n",
       "      <td>0.002882</td>\n",
       "      <td>0.002619</td>\n",
       "      <td>0.002397</td>\n",
       "      <td>0.002216</td>\n",
       "      <td>0.002076</td>\n",
       "      <td>0.001977</td>\n",
       "      <td>0.001910</td>\n",
       "      <td>0.001875</td>\n",
       "      <td>0.002063</td>\n",
       "      <td>0.004487</td>\n",
       "    </tr>\n",
       "    <tr>\n",
       "      <th>min</th>\n",
       "      <td>0.000000</td>\n",
       "      <td>0.000000</td>\n",
       "      <td>0.000000</td>\n",
       "      <td>0.000000</td>\n",
       "      <td>0.000000</td>\n",
       "      <td>0.000000</td>\n",
       "      <td>0.000000</td>\n",
       "      <td>0.000000</td>\n",
       "      <td>0.000000</td>\n",
       "      <td>0.000000</td>\n",
       "      <td>...</td>\n",
       "      <td>0.000000</td>\n",
       "      <td>0.000000</td>\n",
       "      <td>0.000000</td>\n",
       "      <td>0.000000</td>\n",
       "      <td>0.000000</td>\n",
       "      <td>0.000000</td>\n",
       "      <td>0.000000</td>\n",
       "      <td>0.000000</td>\n",
       "      <td>0.000000</td>\n",
       "      <td>0.000000</td>\n",
       "    </tr>\n",
       "    <tr>\n",
       "      <th>25%</th>\n",
       "      <td>0.000000</td>\n",
       "      <td>0.000000</td>\n",
       "      <td>0.000000</td>\n",
       "      <td>0.000000</td>\n",
       "      <td>0.000000</td>\n",
       "      <td>0.000000</td>\n",
       "      <td>0.000000</td>\n",
       "      <td>0.000000</td>\n",
       "      <td>0.000000</td>\n",
       "      <td>0.000000</td>\n",
       "      <td>...</td>\n",
       "      <td>0.000000</td>\n",
       "      <td>0.000000</td>\n",
       "      <td>0.000000</td>\n",
       "      <td>0.000000</td>\n",
       "      <td>0.000000</td>\n",
       "      <td>0.000000</td>\n",
       "      <td>0.000000</td>\n",
       "      <td>0.000000</td>\n",
       "      <td>0.000000</td>\n",
       "      <td>0.000000</td>\n",
       "    </tr>\n",
       "    <tr>\n",
       "      <th>50%</th>\n",
       "      <td>0.000000</td>\n",
       "      <td>0.000000</td>\n",
       "      <td>0.000000</td>\n",
       "      <td>0.000000</td>\n",
       "      <td>0.000000</td>\n",
       "      <td>0.000000</td>\n",
       "      <td>0.000000</td>\n",
       "      <td>0.000000</td>\n",
       "      <td>0.000000</td>\n",
       "      <td>0.000000</td>\n",
       "      <td>...</td>\n",
       "      <td>0.000000</td>\n",
       "      <td>0.000000</td>\n",
       "      <td>0.000000</td>\n",
       "      <td>0.000000</td>\n",
       "      <td>0.000000</td>\n",
       "      <td>0.000000</td>\n",
       "      <td>0.000000</td>\n",
       "      <td>0.000000</td>\n",
       "      <td>0.000044</td>\n",
       "      <td>0.000134</td>\n",
       "    </tr>\n",
       "    <tr>\n",
       "      <th>75%</th>\n",
       "      <td>0.001019</td>\n",
       "      <td>0.001093</td>\n",
       "      <td>0.001145</td>\n",
       "      <td>0.001115</td>\n",
       "      <td>0.001143</td>\n",
       "      <td>0.001101</td>\n",
       "      <td>0.000998</td>\n",
       "      <td>0.001063</td>\n",
       "      <td>0.001163</td>\n",
       "      <td>0.001136</td>\n",
       "      <td>...</td>\n",
       "      <td>0.001787</td>\n",
       "      <td>0.001443</td>\n",
       "      <td>0.001250</td>\n",
       "      <td>0.001099</td>\n",
       "      <td>0.001102</td>\n",
       "      <td>0.001095</td>\n",
       "      <td>0.001130</td>\n",
       "      <td>0.001228</td>\n",
       "      <td>0.001397</td>\n",
       "      <td>0.001806</td>\n",
       "    </tr>\n",
       "    <tr>\n",
       "      <th>max</th>\n",
       "      <td>0.012909</td>\n",
       "      <td>0.014342</td>\n",
       "      <td>0.015693</td>\n",
       "      <td>0.016455</td>\n",
       "      <td>0.016569</td>\n",
       "      <td>0.016245</td>\n",
       "      <td>0.016757</td>\n",
       "      <td>0.017733</td>\n",
       "      <td>0.018616</td>\n",
       "      <td>0.019078</td>\n",
       "      <td>...</td>\n",
       "      <td>0.015088</td>\n",
       "      <td>0.012975</td>\n",
       "      <td>0.011932</td>\n",
       "      <td>0.012398</td>\n",
       "      <td>0.012861</td>\n",
       "      <td>0.013059</td>\n",
       "      <td>0.012948</td>\n",
       "      <td>0.012518</td>\n",
       "      <td>0.019735</td>\n",
       "      <td>0.097010</td>\n",
       "    </tr>\n",
       "  </tbody>\n",
       "</table>\n",
       "<p>8 rows × 64 columns</p>\n",
       "</div>"
      ],
      "text/plain": [
       "       T2DIST_DI_CMR[0]  T2DIST_DI_CMR[1]  T2DIST_DI_CMR[2]  T2DIST_DI_CMR[3]  \\\n",
       "count       1103.000000       1103.000000       1103.000000       1103.000000   \n",
       "mean           0.000835          0.000890          0.000910          0.000900   \n",
       "std            0.001656          0.001795          0.001870          0.001885   \n",
       "min            0.000000          0.000000          0.000000          0.000000   \n",
       "25%            0.000000          0.000000          0.000000          0.000000   \n",
       "50%            0.000000          0.000000          0.000000          0.000000   \n",
       "75%            0.001019          0.001093          0.001145          0.001115   \n",
       "max            0.012909          0.014342          0.015693          0.016455   \n",
       "\n",
       "       T2DIST_DI_CMR[4]  T2DIST_DI_CMR[5]  T2DIST_DI_CMR[6]  T2DIST_DI_CMR[7]  \\\n",
       "count       1103.000000       1103.000000       1103.000000       1103.000000   \n",
       "mean           0.000867          0.000831          0.000812          0.000832   \n",
       "std            0.001860          0.001823          0.001819          0.001861   \n",
       "min            0.000000          0.000000          0.000000          0.000000   \n",
       "25%            0.000000          0.000000          0.000000          0.000000   \n",
       "50%            0.000000          0.000000          0.000000          0.000000   \n",
       "75%            0.001143          0.001101          0.000998          0.001063   \n",
       "max            0.016569          0.016245          0.016757          0.017733   \n",
       "\n",
       "       T2DIST_DI_CMR[8]  T2DIST_DI_CMR[9]        ...          \\\n",
       "count       1103.000000       1103.000000        ...           \n",
       "mean           0.000868          0.000890        ...           \n",
       "std            0.001935          0.001994        ...           \n",
       "min            0.000000          0.000000        ...           \n",
       "25%            0.000000          0.000000        ...           \n",
       "50%            0.000000          0.000000        ...           \n",
       "75%            0.001163          0.001136        ...           \n",
       "max            0.018616          0.019078        ...           \n",
       "\n",
       "       T2DIST_DI_CMR[54]  T2DIST_DI_CMR[55]  T2DIST_DI_CMR[56]  \\\n",
       "count        1103.000000        1103.000000        1103.000000   \n",
       "mean            0.001577           0.001397           0.001252   \n",
       "std             0.002882           0.002619           0.002397   \n",
       "min             0.000000           0.000000           0.000000   \n",
       "25%             0.000000           0.000000           0.000000   \n",
       "50%             0.000000           0.000000           0.000000   \n",
       "75%             0.001787           0.001443           0.001250   \n",
       "max             0.015088           0.012975           0.011932   \n",
       "\n",
       "       T2DIST_DI_CMR[57]  T2DIST_DI_CMR[58]  T2DIST_DI_CMR[59]  \\\n",
       "count        1103.000000        1103.000000        1103.000000   \n",
       "mean            0.001144           0.001078           0.001040   \n",
       "std             0.002216           0.002076           0.001977   \n",
       "min             0.000000           0.000000           0.000000   \n",
       "25%             0.000000           0.000000           0.000000   \n",
       "50%             0.000000           0.000000           0.000000   \n",
       "75%             0.001099           0.001102           0.001095   \n",
       "max             0.012398           0.012861           0.013059   \n",
       "\n",
       "       T2DIST_DI_CMR[60]  T2DIST_DI_CMR[61]  T2DIST_DI_CMR[62]  \\\n",
       "count        1103.000000        1103.000000        1103.000000   \n",
       "mean            0.001017           0.001024           0.001144   \n",
       "std             0.001910           0.001875           0.002063   \n",
       "min             0.000000           0.000000           0.000000   \n",
       "25%             0.000000           0.000000           0.000000   \n",
       "50%             0.000000           0.000000           0.000044   \n",
       "75%             0.001130           0.001228           0.001397   \n",
       "max             0.012948           0.012518           0.019735   \n",
       "\n",
       "       T2DIST_DI_CMR[63]  \n",
       "count        1103.000000  \n",
       "mean            0.001559  \n",
       "std             0.004487  \n",
       "min             0.000000  \n",
       "25%             0.000000  \n",
       "50%             0.000134  \n",
       "75%             0.001806  \n",
       "max             0.097010  \n",
       "\n",
       "[8 rows x 64 columns]"
      ]
     },
     "execution_count": 2,
     "metadata": {},
     "output_type": "execute_result"
    }
   ],
   "source": [
    "df = lasio.read(\"R-540_NMR.las\").df().dropna()\n",
    "df.describe()"
   ]
  },
  {
   "cell_type": "code",
   "execution_count": 14,
   "metadata": {
    "collapsed": false,
    "deletable": true,
    "editable": true
   },
   "outputs": [
    {
     "data": {
      "image/png": "[encoded data removed]",
      "text/plain": [
       "<matplotlib.figure.Figure at 0xb2ea898>"
      ]
     },
     "metadata": {},
     "output_type": "display_data"
    }
   ],
   "source": [
    "plt.matshow(df.corr());"
   ]
  },
  {
   "cell_type": "markdown",
   "metadata": {
    "deletable": true,
    "editable": true
   },
   "source": [
    "## Principal Component Analysis"
   ]
  },
  {
   "cell_type": "code",
   "execution_count": 4,
   "metadata": {
    "collapsed": false,
    "deletable": true,
    "editable": true
   },
   "outputs": [
    {
     "data": {
      "image/png": "[encoded data removed]",
      "text/plain": [
       "<matplotlib.figure.Figure at 0xb9f8f28>"
      ]
     },
     "metadata": {},
     "output_type": "display_data"
    }
   ],
   "source": [
    "from sklearn import decomposition\n",
    "\n",
    "pca = decomposition.PCA()\n",
    "pca.fit(df)\n",
    "\n",
    "plt.figure(1, figsize=(7, 5))\n",
    "plt.plot(pca.explained_variance_, linewidth=2, marker='o')\n",
    "plt.xlabel('n_components')\n",
    "plt.ylabel('explained_variance_');"
   ]
  },
  {
   "cell_type": "markdown",
   "metadata": {
    "deletable": true,
    "editable": true
   },
   "source": [
    "## Factor Analysis"
   ]
  },
  {
   "cell_type": "code",
   "execution_count": 5,
   "metadata": {
    "collapsed": false,
    "deletable": true,
    "editable": true
   },
   "outputs": [
    {
     "data": {
      "text/plain": [
       "FactorAnalysis(copy=True, iterated_power=3, max_iter=1000, n_components=8,\n",
       "        noise_variance_init=None, random_state=0, svd_method='randomized',\n",
       "        tol=0.01)"
      ]
     },
     "execution_count": 5,
     "metadata": {},
     "output_type": "execute_result"
    }
   ],
   "source": [
    "fa = decomposition.FactorAnalysis(n_components=8)  # n=8 as per paper\n",
    "fa.fit(df)"
   ]
  },
  {
   "cell_type": "code",
   "execution_count": 6,
   "metadata": {
    "collapsed": true,
    "deletable": true,
    "editable": true
   },
   "outputs": [],
   "source": [
    "factors = np.transpose(fa.components_)"
   ]
  },
  {
   "cell_type": "code",
   "execution_count": 7,
   "metadata": {
    "collapsed": false,
    "deletable": true,
    "editable": true
   },
   "outputs": [
    {
     "data": {
      "image/png": "[encoded data removed]",
      "text/plain": [
       "<matplotlib.figure.Figure at 0xbb82518>"
      ]
     },
     "metadata": {},
     "output_type": "display_data"
    }
   ],
   "source": [
    "plt.plot(factors)\n",
    "plt.ylim(ymin=0);"
   ]
  },
  {
   "cell_type": "code",
   "execution_count": 8,
   "metadata": {
    "collapsed": true,
    "deletable": true,
    "editable": true
   },
   "outputs": [],
   "source": [
    "weights = factors.max(axis=0)"
   ]
  },
  {
   "cell_type": "code",
   "execution_count": 9,
   "metadata": {
    "collapsed": false,
    "deletable": true,
    "editable": true
   },
   "outputs": [
    {
     "data": {
      "text/plain": [
       "array([ 0.02098906,  0.00188015,  0.00155745,  0.00229156,  0.00176948,\n",
       "        0.00443477,  0.00128293,  0.0015493 ])"
      ]
     },
     "execution_count": 9,
     "metadata": {},
     "output_type": "execute_result"
    }
   ],
   "source": [
    "weights"
   ]
  },
  {
   "cell_type": "code",
   "execution_count": 10,
   "metadata": {
    "collapsed": false,
    "deletable": true,
    "editable": true
   },
   "outputs": [],
   "source": [
    "factors_norm = factors/weights"
   ]
  },
  {
   "cell_type": "code",
   "execution_count": 11,
   "metadata": {
    "collapsed": false,
    "deletable": true,
    "editable": true
   },
   "outputs": [
    {
     "data": {
      "image/png": "[encoded data removed]",
      "text/plain": [
       "<matplotlib.figure.Figure at 0xcdd60b8>"
      ]
     },
     "metadata": {},
     "output_type": "display_data"
    }
   ],
   "source": [
    "plt.plot(factors_norm)\n",
    "plt.ylim(ymin=0);"
   ]
  },
  {
   "cell_type": "markdown",
   "metadata": {
    "deletable": true,
    "editable": true
   },
   "source": [
    "Note that only the peaks are shown here. Some lines are mostly negative."
   ]
  },
  {
   "cell_type": "markdown",
   "metadata": {
    "deletable": true,
    "editable": true
   },
   "source": [
    "## Gaussian fitting"
   ]
  },
  {
   "cell_type": "code",
   "execution_count": 44,
   "metadata": {
    "collapsed": false,
    "deletable": true,
    "editable": true,
    "scrolled": false
   },
   "outputs": [],
   "source": [
    "initial_means = factors.argmax(axis=0)"
   ]
  },
  {
   "cell_type": "code",
   "execution_count": 45,
   "metadata": {
    "collapsed": false
   },
   "outputs": [
    {
     "data": {
      "text/plain": [
       "32"
      ]
     },
     "execution_count": 45,
     "metadata": {},
     "output_type": "execute_result"
    }
   ],
   "source": [
    "initial_means[0]"
   ]
  },
  {
   "cell_type": "code",
   "execution_count": 46,
   "metadata": {
    "collapsed": false
   },
   "outputs": [
    {
     "data": {
      "text/plain": [
       "array([ -1.15235483e-04,  -1.19992524e-04,  -1.20273883e-04,\n",
       "        -1.16761448e-04,  -1.01555340e-04,  -6.20708990e-05,\n",
       "         1.68545345e-05,   1.22070379e-04,   2.30700292e-04,\n",
       "         2.94984986e-04,   3.06546406e-04,   2.68036300e-04,\n",
       "         1.79884886e-04,   7.12107494e-05,  -2.98311364e-05,\n",
       "        -6.64880966e-05,  -1.01533242e-04,  -1.15068147e-04,\n",
       "        -1.20120567e-04,  -1.06716245e-04,  -5.62868875e-05,\n",
       "         6.11391791e-05,   3.16065921e-04,   8.50297467e-04,\n",
       "         2.12981677e-03,   4.43994428e-03,   7.23170902e-03,\n",
       "         1.02585445e-02,   1.33606338e-02,   1.63085464e-02,\n",
       "         1.88050409e-02,   2.04934592e-02,   2.09890627e-02,\n",
       "         1.99098206e-02,   1.70091304e-02,   1.21357866e-02,\n",
       "         6.08836697e-03,   4.97463082e-04,  -7.95690008e-04,\n",
       "        -8.86047206e-04,  -9.51487292e-04,  -1.00667306e-03,\n",
       "        -1.04294421e-03,  -1.06144408e-03,  -1.05572604e-03,\n",
       "        -1.02780222e-03,  -9.79900794e-04,  -9.16314886e-04,\n",
       "        -8.51927845e-04,  -7.92314718e-04,  -7.26879850e-04,\n",
       "        -6.66061586e-04,  -6.04289967e-04,  -5.45686897e-04,\n",
       "        -4.91498745e-04,  -4.41439928e-04,  -3.98988684e-04,\n",
       "        -3.62935191e-04,  -3.34117194e-04,  -3.13837876e-04,\n",
       "        -2.92704708e-04,  -2.30681870e-04,  -2.56991685e-05,\n",
       "         2.41300218e-04])"
      ]
     },
     "execution_count": 46,
     "metadata": {},
     "output_type": "execute_result"
    }
   ],
   "source": [
    "factors[:,0]"
   ]
  },
  {
   "cell_type": "code",
   "execution_count": 24,
   "metadata": {
    "collapsed": true
   },
   "outputs": [],
   "source": [
    "from sklearn.mixture import GaussianMixture"
   ]
  },
  {
   "cell_type": "code",
   "execution_count": 55,
   "metadata": {
    "collapsed": false
   },
   "outputs": [
    {
     "data": {
      "text/plain": [
       "GaussianMixture(covariance_type='full', init_params='kmeans', max_iter=100,\n",
       "        means_init=None, n_components=2, n_init=1, precisions_init=None,\n",
       "        random_state=None, reg_covar=1e-06, tol=0.001, verbose=0,\n",
       "        verbose_interval=10, warm_start=False, weights_init=None)"
      ]
     },
     "execution_count": 55,
     "metadata": {},
     "output_type": "execute_result"
    }
   ],
   "source": [
    "gm = GaussianMixture(n_components=2)\n",
    "gm.fit(data.reshape(-1, 1))"
   ]
  },
  {
   "cell_type": "code",
   "execution_count": 56,
   "metadata": {
    "collapsed": false
   },
   "outputs": [
    {
     "data": {
      "text/plain": [
       "array([[ 1.5094063 ],\n",
       "       [ 3.77815125]])"
      ]
     },
     "execution_count": 56,
     "metadata": {},
     "output_type": "execute_result"
    }
   ],
   "source": [
    "gm.means_"
   ]
  },
  {
   "cell_type": "code",
   "execution_count": 57,
   "metadata": {
    "collapsed": false
   },
   "outputs": [
    {
     "data": {
      "text/plain": [
       "array([[[  4.26133642e-02]],\n",
       "\n",
       "       [[  1.00000000e-06]]])"
      ]
     },
     "execution_count": 57,
     "metadata": {},
     "output_type": "execute_result"
    }
   ],
   "source": [
    "gm.covariances_"
   ]
  },
  {
   "cell_type": "code",
   "execution_count": null,
   "metadata": {
    "collapsed": true
   },
   "outputs": [],
   "source": []
  }
 ],
 "metadata": {
  "kernelspec": {
   "display_name": "Python [default]",
   "language": "python",
   "name": "python3"
  },
  "language_info": {
   "codemirror_mode": {
    "name": "ipython",
    "version": 3
   },
   "file_extension": ".py",
   "mimetype": "text/x-python",
   "name": "python",
   "nbconvert_exporter": "python",
   "pygments_lexer": "ipython3",
   "version": "3.5.2"
  }
 },
 "nbformat": 4,
 "nbformat_minor": 2
}
