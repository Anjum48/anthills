{
 "cells": [
  {
   "cell_type": "code",
   "execution_count": 1,
   "metadata": {
    "collapsed": true
   },
   "outputs": [],
   "source": [
    "import lasio\n",
    "import numpy as np\n",
    "import pandas as pd\n",
    "import matplotlib.pyplot as plt\n",
    "%matplotlib inline"
   ]
  },
  {
   "cell_type": "code",
   "execution_count": 2,
   "metadata": {
    "collapsed": false
   },
   "outputs": [
    {
     "name": "stderr",
     "output_type": "stream",
     "text": [
      "LAS spec version is 3.0 -- neither 1.2 nor 2\n"
     ]
    },
    {
     "data": {
      "text/html": [
       "<div>\n",
       "<table border=\"1\" class=\"dataframe\">\n",
       "  <thead>\n",
       "    <tr style=\"text-align: right;\">\n",
       "      <th></th>\n",
       "      <th>T2DIST_DI_CMR[0]</th>\n",
       "      <th>T2DIST_DI_CMR[1]</th>\n",
       "      <th>T2DIST_DI_CMR[2]</th>\n",
       "      <th>T2DIST_DI_CMR[3]</th>\n",
       "      <th>T2DIST_DI_CMR[4]</th>\n",
       "      <th>T2DIST_DI_CMR[5]</th>\n",
       "      <th>T2DIST_DI_CMR[6]</th>\n",
       "      <th>T2DIST_DI_CMR[7]</th>\n",
       "      <th>T2DIST_DI_CMR[8]</th>\n",
       "      <th>T2DIST_DI_CMR[9]</th>\n",
       "      <th>...</th>\n",
       "      <th>T2DIST_DI_CMR[54]</th>\n",
       "      <th>T2DIST_DI_CMR[55]</th>\n",
       "      <th>T2DIST_DI_CMR[56]</th>\n",
       "      <th>T2DIST_DI_CMR[57]</th>\n",
       "      <th>T2DIST_DI_CMR[58]</th>\n",
       "      <th>T2DIST_DI_CMR[59]</th>\n",
       "      <th>T2DIST_DI_CMR[60]</th>\n",
       "      <th>T2DIST_DI_CMR[61]</th>\n",
       "      <th>T2DIST_DI_CMR[62]</th>\n",
       "      <th>T2DIST_DI_CMR[63]</th>\n",
       "    </tr>\n",
       "  </thead>\n",
       "  <tbody>\n",
       "    <tr>\n",
       "      <th>count</th>\n",
       "      <td>1103.000000</td>\n",
       "      <td>1103.000000</td>\n",
       "      <td>1103.000000</td>\n",
       "      <td>1103.000000</td>\n",
       "      <td>1103.000000</td>\n",
       "      <td>1103.000000</td>\n",
       "      <td>1103.000000</td>\n",
       "      <td>1103.000000</td>\n",
       "      <td>1103.000000</td>\n",
       "      <td>1103.000000</td>\n",
       "      <td>...</td>\n",
       "      <td>1103.000000</td>\n",
       "      <td>1103.000000</td>\n",
       "      <td>1103.000000</td>\n",
       "      <td>1103.000000</td>\n",
       "      <td>1103.000000</td>\n",
       "      <td>1103.000000</td>\n",
       "      <td>1103.000000</td>\n",
       "      <td>1103.000000</td>\n",
       "      <td>1103.000000</td>\n",
       "      <td>1103.000000</td>\n",
       "    </tr>\n",
       "    <tr>\n",
       "      <th>mean</th>\n",
       "      <td>0.000835</td>\n",
       "      <td>0.000890</td>\n",
       "      <td>0.000910</td>\n",
       "      <td>0.000900</td>\n",
       "      <td>0.000867</td>\n",
       "      <td>0.000831</td>\n",
       "      <td>0.000812</td>\n",
       "      <td>0.000832</td>\n",
       "      <td>0.000868</td>\n",
       "      <td>0.000890</td>\n",
       "      <td>...</td>\n",
       "      <td>0.001577</td>\n",
       "      <td>0.001397</td>\n",
       "      <td>0.001252</td>\n",
       "      <td>0.001144</td>\n",
       "      <td>0.001078</td>\n",
       "      <td>0.001040</td>\n",
       "      <td>0.001017</td>\n",
       "      <td>0.001024</td>\n",
       "      <td>0.001144</td>\n",
       "      <td>0.001559</td>\n",
       "    </tr>\n",
       "    <tr>\n",
       "      <th>std</th>\n",
       "      <td>0.001656</td>\n",
       "      <td>0.001795</td>\n",
       "      <td>0.001870</td>\n",
       "      <td>0.001885</td>\n",
       "      <td>0.001860</td>\n",
       "      <td>0.001823</td>\n",
       "      <td>0.001819</td>\n",
       "      <td>0.001861</td>\n",
       "      <td>0.001935</td>\n",
       "      <td>0.001994</td>\n",
       "      <td>...</td>\n",
       "      <td>0.002882</td>\n",
       "      <td>0.002619</td>\n",
       "      <td>0.002397</td>\n",
       "      <td>0.002216</td>\n",
       "      <td>0.002076</td>\n",
       "      <td>0.001977</td>\n",
       "      <td>0.001910</td>\n",
       "      <td>0.001875</td>\n",
       "      <td>0.002063</td>\n",
       "      <td>0.004487</td>\n",
       "    </tr>\n",
       "    <tr>\n",
       "      <th>min</th>\n",
       "      <td>0.000000</td>\n",
       "      <td>0.000000</td>\n",
       "      <td>0.000000</td>\n",
       "      <td>0.000000</td>\n",
       "      <td>0.000000</td>\n",
       "      <td>0.000000</td>\n",
       "      <td>0.000000</td>\n",
       "      <td>0.000000</td>\n",
       "      <td>0.000000</td>\n",
       "      <td>0.000000</td>\n",
       "      <td>...</td>\n",
       "      <td>0.000000</td>\n",
       "      <td>0.000000</td>\n",
       "      <td>0.000000</td>\n",
       "      <td>0.000000</td>\n",
       "      <td>0.000000</td>\n",
       "      <td>0.000000</td>\n",
       "      <td>0.000000</td>\n",
       "      <td>0.000000</td>\n",
       "      <td>0.000000</td>\n",
       "      <td>0.000000</td>\n",
       "    </tr>\n",
       "    <tr>\n",
       "      <th>25%</th>\n",
       "      <td>0.000000</td>\n",
       "      <td>0.000000</td>\n",
       "      <td>0.000000</td>\n",
       "      <td>0.000000</td>\n",
       "      <td>0.000000</td>\n",
       "      <td>0.000000</td>\n",
       "      <td>0.000000</td>\n",
       "      <td>0.000000</td>\n",
       "      <td>0.000000</td>\n",
       "      <td>0.000000</td>\n",
       "      <td>...</td>\n",
       "      <td>0.000000</td>\n",
       "      <td>0.000000</td>\n",
       "      <td>0.000000</td>\n",
       "      <td>0.000000</td>\n",
       "      <td>0.000000</td>\n",
       "      <td>0.000000</td>\n",
       "      <td>0.000000</td>\n",
       "      <td>0.000000</td>\n",
       "      <td>0.000000</td>\n",
       "      <td>0.000000</td>\n",
       "    </tr>\n",
       "    <tr>\n",
       "      <th>50%</th>\n",
       "      <td>0.000000</td>\n",
       "      <td>0.000000</td>\n",
       "      <td>0.000000</td>\n",
       "      <td>0.000000</td>\n",
       "      <td>0.000000</td>\n",
       "      <td>0.000000</td>\n",
       "      <td>0.000000</td>\n",
       "      <td>0.000000</td>\n",
       "      <td>0.000000</td>\n",
       "      <td>0.000000</td>\n",
       "      <td>...</td>\n",
       "      <td>0.000000</td>\n",
       "      <td>0.000000</td>\n",
       "      <td>0.000000</td>\n",
       "      <td>0.000000</td>\n",
       "      <td>0.000000</td>\n",
       "      <td>0.000000</td>\n",
       "      <td>0.000000</td>\n",
       "      <td>0.000000</td>\n",
       "      <td>0.000044</td>\n",
       "      <td>0.000134</td>\n",
       "    </tr>\n",
       "    <tr>\n",
       "      <th>75%</th>\n",
       "      <td>0.001019</td>\n",
       "      <td>0.001093</td>\n",
       "      <td>0.001145</td>\n",
       "      <td>0.001115</td>\n",
       "      <td>0.001143</td>\n",
       "      <td>0.001101</td>\n",
       "      <td>0.000998</td>\n",
       "      <td>0.001063</td>\n",
       "      <td>0.001163</td>\n",
       "      <td>0.001136</td>\n",
       "      <td>...</td>\n",
       "      <td>0.001787</td>\n",
       "      <td>0.001443</td>\n",
       "      <td>0.001250</td>\n",
       "      <td>0.001099</td>\n",
       "      <td>0.001102</td>\n",
       "      <td>0.001095</td>\n",
       "      <td>0.001130</td>\n",
       "      <td>0.001228</td>\n",
       "      <td>0.001397</td>\n",
       "      <td>0.001806</td>\n",
       "    </tr>\n",
       "    <tr>\n",
       "      <th>max</th>\n",
       "      <td>0.012909</td>\n",
       "      <td>0.014342</td>\n",
       "      <td>0.015693</td>\n",
       "      <td>0.016455</td>\n",
       "      <td>0.016569</td>\n",
       "      <td>0.016245</td>\n",
       "      <td>0.016757</td>\n",
       "      <td>0.017733</td>\n",
       "      <td>0.018616</td>\n",
       "      <td>0.019078</td>\n",
       "      <td>...</td>\n",
       "      <td>0.015088</td>\n",
       "      <td>0.012975</td>\n",
       "      <td>0.011932</td>\n",
       "      <td>0.012398</td>\n",
       "      <td>0.012861</td>\n",
       "      <td>0.013059</td>\n",
       "      <td>0.012948</td>\n",
       "      <td>0.012518</td>\n",
       "      <td>0.019735</td>\n",
       "      <td>0.097010</td>\n",
       "    </tr>\n",
       "  </tbody>\n",
       "</table>\n",
       "<p>8 rows × 64 columns</p>\n",
       "</div>"
      ],
      "text/plain": [
       "       T2DIST_DI_CMR[0]  T2DIST_DI_CMR[1]  T2DIST_DI_CMR[2]  T2DIST_DI_CMR[3]  \\\n",
       "count       1103.000000       1103.000000       1103.000000       1103.000000   \n",
       "mean           0.000835          0.000890          0.000910          0.000900   \n",
       "std            0.001656          0.001795          0.001870          0.001885   \n",
       "min            0.000000          0.000000          0.000000          0.000000   \n",
       "25%            0.000000          0.000000          0.000000          0.000000   \n",
       "50%            0.000000          0.000000          0.000000          0.000000   \n",
       "75%            0.001019          0.001093          0.001145          0.001115   \n",
       "max            0.012909          0.014342          0.015693          0.016455   \n",
       "\n",
       "       T2DIST_DI_CMR[4]  T2DIST_DI_CMR[5]  T2DIST_DI_CMR[6]  T2DIST_DI_CMR[7]  \\\n",
       "count       1103.000000       1103.000000       1103.000000       1103.000000   \n",
       "mean           0.000867          0.000831          0.000812          0.000832   \n",
       "std            0.001860          0.001823          0.001819          0.001861   \n",
       "min            0.000000          0.000000          0.000000          0.000000   \n",
       "25%            0.000000          0.000000          0.000000          0.000000   \n",
       "50%            0.000000          0.000000          0.000000          0.000000   \n",
       "75%            0.001143          0.001101          0.000998          0.001063   \n",
       "max            0.016569          0.016245          0.016757          0.017733   \n",
       "\n",
       "       T2DIST_DI_CMR[8]  T2DIST_DI_CMR[9]        ...          \\\n",
       "count       1103.000000       1103.000000        ...           \n",
       "mean           0.000868          0.000890        ...           \n",
       "std            0.001935          0.001994        ...           \n",
       "min            0.000000          0.000000        ...           \n",
       "25%            0.000000          0.000000        ...           \n",
       "50%            0.000000          0.000000        ...           \n",
       "75%            0.001163          0.001136        ...           \n",
       "max            0.018616          0.019078        ...           \n",
       "\n",
       "       T2DIST_DI_CMR[54]  T2DIST_DI_CMR[55]  T2DIST_DI_CMR[56]  \\\n",
       "count        1103.000000        1103.000000        1103.000000   \n",
       "mean            0.001577           0.001397           0.001252   \n",
       "std             0.002882           0.002619           0.002397   \n",
       "min             0.000000           0.000000           0.000000   \n",
       "25%             0.000000           0.000000           0.000000   \n",
       "50%             0.000000           0.000000           0.000000   \n",
       "75%             0.001787           0.001443           0.001250   \n",
       "max             0.015088           0.012975           0.011932   \n",
       "\n",
       "       T2DIST_DI_CMR[57]  T2DIST_DI_CMR[58]  T2DIST_DI_CMR[59]  \\\n",
       "count        1103.000000        1103.000000        1103.000000   \n",
       "mean            0.001144           0.001078           0.001040   \n",
       "std             0.002216           0.002076           0.001977   \n",
       "min             0.000000           0.000000           0.000000   \n",
       "25%             0.000000           0.000000           0.000000   \n",
       "50%             0.000000           0.000000           0.000000   \n",
       "75%             0.001099           0.001102           0.001095   \n",
       "max             0.012398           0.012861           0.013059   \n",
       "\n",
       "       T2DIST_DI_CMR[60]  T2DIST_DI_CMR[61]  T2DIST_DI_CMR[62]  \\\n",
       "count        1103.000000        1103.000000        1103.000000   \n",
       "mean            0.001017           0.001024           0.001144   \n",
       "std             0.001910           0.001875           0.002063   \n",
       "min             0.000000           0.000000           0.000000   \n",
       "25%             0.000000           0.000000           0.000000   \n",
       "50%             0.000000           0.000000           0.000044   \n",
       "75%             0.001130           0.001228           0.001397   \n",
       "max             0.012948           0.012518           0.019735   \n",
       "\n",
       "       T2DIST_DI_CMR[63]  \n",
       "count        1103.000000  \n",
       "mean            0.001559  \n",
       "std             0.004487  \n",
       "min             0.000000  \n",
       "25%             0.000000  \n",
       "50%             0.000134  \n",
       "75%             0.001806  \n",
       "max             0.097010  \n",
       "\n",
       "[8 rows x 64 columns]"
      ]
     },
     "execution_count": 2,
     "metadata": {},
     "output_type": "execute_result"
    }
   ],
   "source": [
    "df = lasio.read(\"R-540_NMR.las\").df().dropna()\n",
    "df.describe()"
   ]
  },
  {
   "cell_type": "code",
   "execution_count": 3,
   "metadata": {
    "collapsed": true
   },
   "outputs": [],
   "source": [
    "from scipy import stats\n",
    "from scipy.misc import derivative\n",
    "from scipy.interpolate import splrep, splev"
   ]
  },
  {
   "cell_type": "code",
   "execution_count": 4,
   "metadata": {
    "collapsed": true
   },
   "outputs": [],
   "source": [
    "class T2Dist(stats.rv_continuous):\n",
    "    def __init__(self, t2_min, t2_max, bins, t2_data, clip_point=None):\n",
    "        \"\"\"\n",
    "        Creates a continuous T2 distribution which can be sampled from\n",
    "        Binned T2 data is converted to a continuous variable using a cubic spline\n",
    "        :param t2_min: Min extent of T2 e.g. 0.3ms\n",
    "        :param t2_max: Max extent of T2 e.g. 30000ms\n",
    "        :param bins: Number of bins in the T2 distribution from the LAS file\n",
    "        :param t2_data: The T2 values from the LAS file (array of len bins)\n",
    "        \"\"\"\n",
    "        super().__init__(a=np.log10(t2_min), b=np.log10(t2_max))\n",
    "        time_step = (np.log10(t2_max) - np.log10(t2_min)) / (bins - 1)\n",
    "        self.log_time = [np.log10(t2_min) + x * time_step for x in range(bins)]\n",
    "        if clip_point is None:\n",
    "            self.t2 = t2_data\n",
    "        else:\n",
    "            self.t2 = self.clip_data(clip_point, t2_data)\n",
    "\n",
    "    def _cdf(self, x, *t2_data):\n",
    "        tck = splrep(self.log_time, self.t2.cumsum()/self.t2.cumsum().max())\n",
    "        return splev(x, tck)\n",
    "\n",
    "    def _pdf(self, x, *args):\n",
    "        d = derivative(self._cdf, x, dx=1e-5, args=args, order=5)\n",
    "        d[d < 0] = 0\n",
    "        return d\n",
    "\n",
    "    def clip_data(self, clip_point, t2_data):\n",
    "        clipped_t2_data = []\n",
    "        for x, y in zip(self.log_time, t2_data):\n",
    "            if x < np.log10(clip_point):\n",
    "                clipped_t2_data.append(1e-8)\n",
    "            else:\n",
    "                clipped_t2_data.append(y)\n",
    "        return np.array(clipped_t2_data)"
   ]
  },
  {
   "cell_type": "code",
   "execution_count": 5,
   "metadata": {
    "collapsed": false
   },
   "outputs": [],
   "source": [
    "raw_data = df.iloc[667]"
   ]
  },
  {
   "cell_type": "code",
   "execution_count": 6,
   "metadata": {
    "collapsed": true
   },
   "outputs": [],
   "source": [
    "t2 = T2Dist(0.3, 6000, 64, raw_data)\n",
    "data = t2.rvs(size=10000)"
   ]
  },
  {
   "cell_type": "code",
   "execution_count": 7,
   "metadata": {
    "collapsed": false
   },
   "outputs": [
    {
     "data": {
      "image/png": "[encoded data removed]",
      "text/plain": [
       "<matplotlib.figure.Figure at 0xbe61128>"
      ]
     },
     "metadata": {},
     "output_type": "display_data"
    }
   ],
   "source": [
    "plt.hist(data, bins=64);"
   ]
  },
  {
   "cell_type": "code",
   "execution_count": 8,
   "metadata": {
    "collapsed": true
   },
   "outputs": [],
   "source": [
    "from sklearn.mixture import BayesianGaussianMixture"
   ]
  },
  {
   "cell_type": "code",
   "execution_count": 17,
   "metadata": {
    "collapsed": false
   },
   "outputs": [
    {
     "data": {
      "text/plain": [
       "BayesianGaussianMixture(covariance_prior=None, covariance_type='full',\n",
       "            degrees_of_freedom_prior=20, init_params='kmeans',\n",
       "            max_iter=20000, mean_precision_prior=None, mean_prior=None,\n",
       "            n_components=20, n_init=1, random_state=None, reg_covar=1e-06,\n",
       "            tol=0.001, verbose=0, verbose_interval=10, warm_start=False,\n",
       "            weight_concentration_prior=None,\n",
       "            weight_concentration_prior_type='dirichlet_process')"
      ]
     },
     "execution_count": 17,
     "metadata": {},
     "output_type": "execute_result"
    }
   ],
   "source": [
    "n = 20\n",
    "gm = BayesianGaussianMixture(n_components=n, degrees_of_freedom_prior=20, max_iter=20000)\n",
    "gm.fit(data.reshape(-1, 1))"
   ]
  },
  {
   "cell_type": "code",
   "execution_count": 10,
   "metadata": {
    "collapsed": true
   },
   "outputs": [],
   "source": [
    "x_plot = np.linspace(np.log10(0.3), np.log10(6000), 200)\n",
    "t2_pdf = t2.pdf(x_plot)"
   ]
  },
  {
   "cell_type": "code",
   "execution_count": 11,
   "metadata": {
    "collapsed": false
   },
   "outputs": [],
   "source": [
    "components = []\n",
    "for i in range(n):\n",
    "    components.append(gm.weights_[i]*stats.norm.pdf(x_plot, gm.means_[i], np.sqrt(gm.covariances_[i])).flatten())\n",
    "components = np.transpose(components)"
   ]
  },
  {
   "cell_type": "code",
   "execution_count": 12,
   "metadata": {
    "collapsed": false
   },
   "outputs": [
    {
     "data": {
      "image/png": "[encoded data removed]",
      "text/plain": [
       "<matplotlib.figure.Figure at 0xccea2b0>"
      ]
     },
     "metadata": {},
     "output_type": "display_data"
    }
   ],
   "source": [
    "plt.plot(x_plot, components);\n",
    "plt.plot(x_plot, np.sum(components, axis=1));"
   ]
  },
  {
   "cell_type": "code",
   "execution_count": 20,
   "metadata": {
    "collapsed": false
   },
   "outputs": [
    {
     "data": {
      "text/plain": [
       "<matplotlib.legend.Legend at 0x10014e80>"
      ]
     },
     "execution_count": 20,
     "metadata": {},
     "output_type": "execute_result"
    },
    {
     "data": {
      "image/png": "[encoded data removed]",
      "text/plain": [
       "<matplotlib.figure.Figure at 0xc346dd8>"
      ]
     },
     "metadata": {},
     "output_type": "display_data"
    }
   ],
   "source": [
    "from collections import OrderedDict\n",
    "\n",
    "fig3, ax3 = plt.subplots(figsize=(8, 6))\n",
    "ax3.hist(data, bins=64, normed=True, lw=0, alpha=0.5)\n",
    "ax3.plot(x_plot, np.sum(components, axis=1), color='k', label='Posterior expected density')\n",
    "ax3.plot(x_plot, components, '--', color='k', label='Posterior expected mixture\\ncomponents\\n(weighted)')\n",
    "ax3.plot(x_plot, t2_pdf, color='r', label=\"NMR T2 Data\")\n",
    "ax3.set_xticklabels(10 ** np.array(ax3.get_xticks().tolist()))\n",
    "ax3.set_xlabel('$T_{2} (ms)$')\n",
    "ax3.set_yticklabels([])\n",
    "ax3.set_ylabel('Density')\n",
    "ax3.legend(loc=2)\n",
    "handles, labels = plt.gca().get_legend_handles_labels()\n",
    "by_label = OrderedDict(zip(labels, handles))\n",
    "plt.legend(by_label.values(), by_label.keys())"
   ]
  },
  {
   "cell_type": "code",
   "execution_count": 15,
   "metadata": {
    "collapsed": false
   },
   "outputs": [
    {
     "data": {
      "text/plain": [
       "array([  2.79818753e-01,   2.28504920e-01,   4.03857047e-02,\n",
       "         9.73839689e-02,   5.09287733e-02,   4.80601091e-04,\n",
       "         1.28057778e-01,   1.35099857e-01,   4.95315234e-04,\n",
       "         4.24159376e-04,   3.84152184e-02,   4.71520341e-06,\n",
       "         2.24533496e-07,   1.06920712e-08,   5.09146248e-10,\n",
       "         2.42450594e-11,   1.15452664e-12,   5.49774591e-14,\n",
       "         2.61797424e-15,   1.24665440e-16])"
      ]
     },
     "execution_count": 15,
     "metadata": {},
     "output_type": "execute_result"
    }
   ],
   "source": [
    "gm.weights_"
   ]
  },
  {
   "cell_type": "code",
   "execution_count": 21,
   "metadata": {
    "collapsed": false
   },
   "outputs": [
    {
     "data": {
      "text/plain": [
       "(array([  2.37873743e+03,   1.50264349e+03,   4.85158722e+00,\n",
       "          2.00986028e+03,   7.92261574e+00,   4.77863275e+00,\n",
       "          4.75226694e+00,   1.39825751e+03,   1.84211511e+03,\n",
       "          4.57399424e+00,   4.46888304e+00,   4.37153970e+00,\n",
       "          4.39518185e+02,   4.11223093e+00,   4.04036237e+02,\n",
       "          1.00000000e+00,   1.00000000e+00,   1.00000000e+00,\n",
       "          1.00000000e+00,   1.00000000e+00]),\n",
       " array([  7.62231257e+03,   6.12066907e+03,   6.11681749e+03,\n",
       "          4.10795721e+03,   4.10103459e+03,   4.09725596e+03,\n",
       "          4.09350369e+03,   2.69624618e+03,   8.55131070e+02,\n",
       "          8.51557076e+02,   8.48088193e+02,   8.44716653e+02,\n",
       "          4.06198468e+02,   4.03086237e+02,   5.00000007e-02,\n",
       "          5.00000000e-02,   5.00000000e-02,   5.00000000e-02,\n",
       "          5.00000000e-02,   5.00000000e-02]))"
      ]
     },
     "execution_count": 21,
     "metadata": {},
     "output_type": "execute_result"
    }
   ],
   "source": [
    "gm.weight_concentration_"
   ]
  },
  {
   "cell_type": "code",
   "execution_count": null,
   "metadata": {
    "collapsed": true
   },
   "outputs": [],
   "source": [
    ""
   ]
  }
 ],
 "metadata": {
  "kernelspec": {
   "display_name": "Python [default]",
   "language": "python",
   "name": "python3"
  },
  "language_info": {
   "codemirror_mode": {
    "name": "ipython",
    "version": 3.0
   },
   "file_extension": ".py",
   "mimetype": "text/x-python",
   "name": "python",
   "nbconvert_exporter": "python",
   "pygments_lexer": "ipython3",
   "version": "3.5.2"
  }
 },
 "nbformat": 4,
 "nbformat_minor": 0
}