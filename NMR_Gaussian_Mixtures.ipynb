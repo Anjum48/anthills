{
 "cells": [
  {
   "cell_type": "code",
   "execution_count": 1,
   "metadata": {
    "collapsed": true
   },
   "outputs": [],
   "source": [
    "import lasio\n",
    "import numpy as np\n",
    "import pandas as pd\n",
    "import matplotlib.pyplot as plt\n",
    "%matplotlib inline"
   ]
  },
  {
   "cell_type": "code",
   "execution_count": 4,
   "metadata": {},
   "outputs": [
    {
     "name": "stderr",
     "output_type": "stream",
     "text": [
      "LAS spec version is 3.0 -- neither 1.2 nor 2\n"
     ]
    },
    {
     "data": {
      "text/html": [
       "<div>\n",
       "<table border=\"1\" class=\"dataframe\">\n",
       "  <thead>\n",
       "    <tr style=\"text-align: right;\">\n",
       "      <th></th>\n",
       "      <th>T2DIST_DI_CMR[0]</th>\n",
       "      <th>T2DIST_DI_CMR[1]</th>\n",
       "      <th>T2DIST_DI_CMR[2]</th>\n",
       "      <th>T2DIST_DI_CMR[3]</th>\n",
       "      <th>T2DIST_DI_CMR[4]</th>\n",
       "      <th>T2DIST_DI_CMR[5]</th>\n",
       "      <th>T2DIST_DI_CMR[6]</th>\n",
       "      <th>T2DIST_DI_CMR[7]</th>\n",
       "      <th>T2DIST_DI_CMR[8]</th>\n",
       "      <th>T2DIST_DI_CMR[9]</th>\n",
       "      <th>...</th>\n",
       "      <th>T2DIST_DI_CMR[54]</th>\n",
       "      <th>T2DIST_DI_CMR[55]</th>\n",
       "      <th>T2DIST_DI_CMR[56]</th>\n",
       "      <th>T2DIST_DI_CMR[57]</th>\n",
       "      <th>T2DIST_DI_CMR[58]</th>\n",
       "      <th>T2DIST_DI_CMR[59]</th>\n",
       "      <th>T2DIST_DI_CMR[60]</th>\n",
       "      <th>T2DIST_DI_CMR[61]</th>\n",
       "      <th>T2DIST_DI_CMR[62]</th>\n",
       "      <th>T2DIST_DI_CMR[63]</th>\n",
       "    </tr>\n",
       "  </thead>\n",
       "  <tbody>\n",
       "    <tr>\n",
       "      <th>count</th>\n",
       "      <td>986.000000</td>\n",
       "      <td>986.000000</td>\n",
       "      <td>986.000000</td>\n",
       "      <td>986.000000</td>\n",
       "      <td>986.000000</td>\n",
       "      <td>986.000000</td>\n",
       "      <td>986.000000</td>\n",
       "      <td>986.000000</td>\n",
       "      <td>986.000000</td>\n",
       "      <td>986.000000</td>\n",
       "      <td>...</td>\n",
       "      <td>986.000000</td>\n",
       "      <td>986.000000</td>\n",
       "      <td>986.000000</td>\n",
       "      <td>986.000000</td>\n",
       "      <td>986.000000</td>\n",
       "      <td>986.000000</td>\n",
       "      <td>986.000000</td>\n",
       "      <td>986.000000</td>\n",
       "      <td>986.000000</td>\n",
       "      <td>986.000000</td>\n",
       "    </tr>\n",
       "    <tr>\n",
       "      <th>mean</th>\n",
       "      <td>0.000863</td>\n",
       "      <td>0.000920</td>\n",
       "      <td>0.000941</td>\n",
       "      <td>0.000932</td>\n",
       "      <td>0.000894</td>\n",
       "      <td>0.000852</td>\n",
       "      <td>0.000821</td>\n",
       "      <td>0.000825</td>\n",
       "      <td>0.000840</td>\n",
       "      <td>0.000847</td>\n",
       "      <td>...</td>\n",
       "      <td>0.001741</td>\n",
       "      <td>0.001549</td>\n",
       "      <td>0.001391</td>\n",
       "      <td>0.001270</td>\n",
       "      <td>0.001190</td>\n",
       "      <td>0.001143</td>\n",
       "      <td>0.001109</td>\n",
       "      <td>0.001100</td>\n",
       "      <td>0.001173</td>\n",
       "      <td>0.001480</td>\n",
       "    </tr>\n",
       "    <tr>\n",
       "      <th>std</th>\n",
       "      <td>0.001684</td>\n",
       "      <td>0.001829</td>\n",
       "      <td>0.001910</td>\n",
       "      <td>0.001930</td>\n",
       "      <td>0.001911</td>\n",
       "      <td>0.001874</td>\n",
       "      <td>0.001861</td>\n",
       "      <td>0.001882</td>\n",
       "      <td>0.001931</td>\n",
       "      <td>0.001966</td>\n",
       "      <td>...</td>\n",
       "      <td>0.003000</td>\n",
       "      <td>0.002728</td>\n",
       "      <td>0.002497</td>\n",
       "      <td>0.002310</td>\n",
       "      <td>0.002157</td>\n",
       "      <td>0.002042</td>\n",
       "      <td>0.001963</td>\n",
       "      <td>0.001920</td>\n",
       "      <td>0.002003</td>\n",
       "      <td>0.003500</td>\n",
       "    </tr>\n",
       "    <tr>\n",
       "      <th>min</th>\n",
       "      <td>0.000000</td>\n",
       "      <td>0.000000</td>\n",
       "      <td>0.000000</td>\n",
       "      <td>0.000000</td>\n",
       "      <td>0.000000</td>\n",
       "      <td>0.000000</td>\n",
       "      <td>0.000000</td>\n",
       "      <td>0.000000</td>\n",
       "      <td>0.000000</td>\n",
       "      <td>0.000000</td>\n",
       "      <td>...</td>\n",
       "      <td>0.000000</td>\n",
       "      <td>0.000000</td>\n",
       "      <td>0.000000</td>\n",
       "      <td>0.000000</td>\n",
       "      <td>0.000000</td>\n",
       "      <td>0.000000</td>\n",
       "      <td>0.000000</td>\n",
       "      <td>0.000000</td>\n",
       "      <td>0.000000</td>\n",
       "      <td>0.000000</td>\n",
       "    </tr>\n",
       "    <tr>\n",
       "      <th>25%</th>\n",
       "      <td>0.000000</td>\n",
       "      <td>0.000000</td>\n",
       "      <td>0.000000</td>\n",
       "      <td>0.000000</td>\n",
       "      <td>0.000000</td>\n",
       "      <td>0.000000</td>\n",
       "      <td>0.000000</td>\n",
       "      <td>0.000000</td>\n",
       "      <td>0.000000</td>\n",
       "      <td>0.000000</td>\n",
       "      <td>...</td>\n",
       "      <td>0.000000</td>\n",
       "      <td>0.000000</td>\n",
       "      <td>0.000000</td>\n",
       "      <td>0.000000</td>\n",
       "      <td>0.000000</td>\n",
       "      <td>0.000000</td>\n",
       "      <td>0.000000</td>\n",
       "      <td>0.000000</td>\n",
       "      <td>0.000000</td>\n",
       "      <td>0.000000</td>\n",
       "    </tr>\n",
       "    <tr>\n",
       "      <th>50%</th>\n",
       "      <td>0.000000</td>\n",
       "      <td>0.000000</td>\n",
       "      <td>0.000000</td>\n",
       "      <td>0.000000</td>\n",
       "      <td>0.000000</td>\n",
       "      <td>0.000000</td>\n",
       "      <td>0.000000</td>\n",
       "      <td>0.000000</td>\n",
       "      <td>0.000000</td>\n",
       "      <td>0.000000</td>\n",
       "      <td>...</td>\n",
       "      <td>0.000000</td>\n",
       "      <td>0.000000</td>\n",
       "      <td>0.000000</td>\n",
       "      <td>0.000000</td>\n",
       "      <td>0.000000</td>\n",
       "      <td>0.000000</td>\n",
       "      <td>0.000000</td>\n",
       "      <td>0.000000</td>\n",
       "      <td>0.000136</td>\n",
       "      <td>0.000157</td>\n",
       "    </tr>\n",
       "    <tr>\n",
       "      <th>75%</th>\n",
       "      <td>0.001083</td>\n",
       "      <td>0.001186</td>\n",
       "      <td>0.001265</td>\n",
       "      <td>0.001226</td>\n",
       "      <td>0.001181</td>\n",
       "      <td>0.001111</td>\n",
       "      <td>0.000993</td>\n",
       "      <td>0.001051</td>\n",
       "      <td>0.001115</td>\n",
       "      <td>0.001080</td>\n",
       "      <td>...</td>\n",
       "      <td>0.002136</td>\n",
       "      <td>0.001743</td>\n",
       "      <td>0.001489</td>\n",
       "      <td>0.001355</td>\n",
       "      <td>0.001303</td>\n",
       "      <td>0.001305</td>\n",
       "      <td>0.001320</td>\n",
       "      <td>0.001363</td>\n",
       "      <td>0.001490</td>\n",
       "      <td>0.001775</td>\n",
       "    </tr>\n",
       "    <tr>\n",
       "      <th>max</th>\n",
       "      <td>0.012909</td>\n",
       "      <td>0.014342</td>\n",
       "      <td>0.015693</td>\n",
       "      <td>0.016455</td>\n",
       "      <td>0.016569</td>\n",
       "      <td>0.016245</td>\n",
       "      <td>0.016757</td>\n",
       "      <td>0.017733</td>\n",
       "      <td>0.018616</td>\n",
       "      <td>0.019078</td>\n",
       "      <td>...</td>\n",
       "      <td>0.015088</td>\n",
       "      <td>0.012975</td>\n",
       "      <td>0.011932</td>\n",
       "      <td>0.012398</td>\n",
       "      <td>0.012861</td>\n",
       "      <td>0.013059</td>\n",
       "      <td>0.012948</td>\n",
       "      <td>0.012518</td>\n",
       "      <td>0.011795</td>\n",
       "      <td>0.054735</td>\n",
       "    </tr>\n",
       "  </tbody>\n",
       "</table>\n",
       "<p>8 rows × 64 columns</p>\n",
       "</div>"
      ],
      "text/plain": [
       "       T2DIST_DI_CMR[0]  T2DIST_DI_CMR[1]  T2DIST_DI_CMR[2]  T2DIST_DI_CMR[3]  \\\n",
       "count        986.000000        986.000000        986.000000        986.000000   \n",
       "mean           0.000863          0.000920          0.000941          0.000932   \n",
       "std            0.001684          0.001829          0.001910          0.001930   \n",
       "min            0.000000          0.000000          0.000000          0.000000   \n",
       "25%            0.000000          0.000000          0.000000          0.000000   \n",
       "50%            0.000000          0.000000          0.000000          0.000000   \n",
       "75%            0.001083          0.001186          0.001265          0.001226   \n",
       "max            0.012909          0.014342          0.015693          0.016455   \n",
       "\n",
       "       T2DIST_DI_CMR[4]  T2DIST_DI_CMR[5]  T2DIST_DI_CMR[6]  T2DIST_DI_CMR[7]  \\\n",
       "count        986.000000        986.000000        986.000000        986.000000   \n",
       "mean           0.000894          0.000852          0.000821          0.000825   \n",
       "std            0.001911          0.001874          0.001861          0.001882   \n",
       "min            0.000000          0.000000          0.000000          0.000000   \n",
       "25%            0.000000          0.000000          0.000000          0.000000   \n",
       "50%            0.000000          0.000000          0.000000          0.000000   \n",
       "75%            0.001181          0.001111          0.000993          0.001051   \n",
       "max            0.016569          0.016245          0.016757          0.017733   \n",
       "\n",
       "       T2DIST_DI_CMR[8]  T2DIST_DI_CMR[9]        ...          \\\n",
       "count        986.000000        986.000000        ...           \n",
       "mean           0.000840          0.000847        ...           \n",
       "std            0.001931          0.001966        ...           \n",
       "min            0.000000          0.000000        ...           \n",
       "25%            0.000000          0.000000        ...           \n",
       "50%            0.000000          0.000000        ...           \n",
       "75%            0.001115          0.001080        ...           \n",
       "max            0.018616          0.019078        ...           \n",
       "\n",
       "       T2DIST_DI_CMR[54]  T2DIST_DI_CMR[55]  T2DIST_DI_CMR[56]  \\\n",
       "count         986.000000         986.000000         986.000000   \n",
       "mean            0.001741           0.001549           0.001391   \n",
       "std             0.003000           0.002728           0.002497   \n",
       "min             0.000000           0.000000           0.000000   \n",
       "25%             0.000000           0.000000           0.000000   \n",
       "50%             0.000000           0.000000           0.000000   \n",
       "75%             0.002136           0.001743           0.001489   \n",
       "max             0.015088           0.012975           0.011932   \n",
       "\n",
       "       T2DIST_DI_CMR[57]  T2DIST_DI_CMR[58]  T2DIST_DI_CMR[59]  \\\n",
       "count         986.000000         986.000000         986.000000   \n",
       "mean            0.001270           0.001190           0.001143   \n",
       "std             0.002310           0.002157           0.002042   \n",
       "min             0.000000           0.000000           0.000000   \n",
       "25%             0.000000           0.000000           0.000000   \n",
       "50%             0.000000           0.000000           0.000000   \n",
       "75%             0.001355           0.001303           0.001305   \n",
       "max             0.012398           0.012861           0.013059   \n",
       "\n",
       "       T2DIST_DI_CMR[60]  T2DIST_DI_CMR[61]  T2DIST_DI_CMR[62]  \\\n",
       "count         986.000000         986.000000         986.000000   \n",
       "mean            0.001109           0.001100           0.001173   \n",
       "std             0.001963           0.001920           0.002003   \n",
       "min             0.000000           0.000000           0.000000   \n",
       "25%             0.000000           0.000000           0.000000   \n",
       "50%             0.000000           0.000000           0.000136   \n",
       "75%             0.001320           0.001363           0.001490   \n",
       "max             0.012948           0.012518           0.011795   \n",
       "\n",
       "       T2DIST_DI_CMR[63]  \n",
       "count         986.000000  \n",
       "mean            0.001480  \n",
       "std             0.003500  \n",
       "min             0.000000  \n",
       "25%             0.000000  \n",
       "50%             0.000157  \n",
       "75%             0.001775  \n",
       "max             0.054735  \n",
       "\n",
       "[8 rows x 64 columns]"
      ]
     },
     "execution_count": 4,
     "metadata": {},
     "output_type": "execute_result"
    }
   ],
   "source": [
    "df = lasio.read(\"C:\\\\Users\\\\sayea5\\\\PycharmProjects\\\\NMR\\\\input_files\\\\R-540_CMR.las\").df().dropna()\n",
    "del df[\"TCMR\"]\n",
    "df.describe()"
   ]
  },
  {
   "cell_type": "code",
   "execution_count": 5,
   "metadata": {
    "collapsed": true
   },
   "outputs": [],
   "source": [
    "from scipy import stats\n",
    "from scipy.misc import derivative\n",
    "from scipy.interpolate import splrep, splev"
   ]
  },
  {
   "cell_type": "code",
   "execution_count": 6,
   "metadata": {
    "collapsed": true
   },
   "outputs": [],
   "source": [
    "class T2Dist(stats.rv_continuous):\n",
    "    def __init__(self, t2_min, t2_max, bins, t2_data, clip_point=None):\n",
    "        \"\"\"\n",
    "        Creates a continuous T2 distribution which can be sampled from\n",
    "        Binned T2 data is converted to a continuous variable using a cubic spline\n",
    "        :param t2_min: Min extent of T2 e.g. 0.3ms\n",
    "        :param t2_max: Max extent of T2 e.g. 30000ms\n",
    "        :param bins: Number of bins in the T2 distribution from the LAS file\n",
    "        :param t2_data: The T2 values from the LAS file (array of len bins)\n",
    "        \"\"\"\n",
    "        super().__init__(a=np.log10(t2_min), b=np.log10(t2_max))\n",
    "        time_step = (np.log10(t2_max) - np.log10(t2_min)) / (bins - 1)\n",
    "        self.log_time = [np.log10(t2_min) + x * time_step for x in range(bins)]\n",
    "        if clip_point is None:\n",
    "            self.t2 = t2_data\n",
    "        else:\n",
    "            self.t2 = self.clip_data(clip_point, t2_data)\n",
    "\n",
    "    def _cdf(self, x, *t2_data):\n",
    "        tck = splrep(self.log_time, self.t2.cumsum()/self.t2.cumsum().max())\n",
    "        return splev(x, tck)\n",
    "\n",
    "    def _pdf(self, x, *args):\n",
    "        d = derivative(self._cdf, x, dx=1e-5, args=args, order=5)\n",
    "        d[d < 0] = 0\n",
    "        return d\n",
    "\n",
    "    def clip_data(self, clip_point, t2_data):\n",
    "        clipped_t2_data = []\n",
    "        for x, y in zip(self.log_time, t2_data):\n",
    "            if x < np.log10(clip_point):\n",
    "                clipped_t2_data.append(1e-8)\n",
    "            else:\n",
    "                clipped_t2_data.append(y)\n",
    "        return np.array(clipped_t2_data)"
   ]
  },
  {
   "cell_type": "code",
   "execution_count": 7,
   "metadata": {},
   "outputs": [],
   "source": [
    "raw_data = df.iloc[667]"
   ]
  },
  {
   "cell_type": "code",
   "execution_count": 42,
   "metadata": {
    "collapsed": true
   },
   "outputs": [],
   "source": [
    "t2 = T2Dist(0.3, 6000, 64, raw_data)\n",
    "data = t2.rvs(size=10000)"
   ]
  },
  {
   "cell_type": "code",
   "execution_count": 43,
   "metadata": {},
   "outputs": [
    {
     "data": {
      "image/png": "[encoded data removed]",
      "text/plain": [
       "<matplotlib.figure.Figure at 0x109d7080>"
      ]
     },
     "metadata": {},
     "output_type": "display_data"
    }
   ],
   "source": [
    "plt.hist(data, bins=64);"
   ]
  },
  {
   "cell_type": "code",
   "execution_count": 44,
   "metadata": {
    "collapsed": true
   },
   "outputs": [],
   "source": [
    "from sklearn.mixture import BayesianGaussianMixture"
   ]
  },
  {
   "cell_type": "code",
   "execution_count": 52,
   "metadata": {},
   "outputs": [
    {
     "data": {
      "text/plain": [
       "BayesianGaussianMixture(covariance_prior=None, covariance_type='full',\n",
       "            degrees_of_freedom_prior=20, init_params='kmeans',\n",
       "            max_iter=20000, mean_precision_prior=None, mean_prior=None,\n",
       "            n_components=20, n_init=1, random_state=None, reg_covar=1e-06,\n",
       "            tol=1e-05, verbose=0, verbose_interval=10, warm_start=False,\n",
       "            weight_concentration_prior=None,\n",
       "            weight_concentration_prior_type='dirichlet_process')"
      ]
     },
     "execution_count": 52,
     "metadata": {},
     "output_type": "execute_result"
    }
   ],
   "source": [
    "n = 20\n",
    "gm = BayesianGaussianMixture(n_components=n, degrees_of_freedom_prior=20, max_iter=20000, tol=1e-5)\n",
    "gm.fit(data.reshape(-1, 1))"
   ]
  },
  {
   "cell_type": "code",
   "execution_count": 53,
   "metadata": {
    "collapsed": true
   },
   "outputs": [],
   "source": [
    "x_plot = np.linspace(np.log10(0.3), np.log10(6000), 200)\n",
    "t2_pdf = t2.pdf(x_plot)"
   ]
  },
  {
   "cell_type": "code",
   "execution_count": 54,
   "metadata": {},
   "outputs": [],
   "source": [
    "components = []\n",
    "for i in range(n):\n",
    "    components.append(gm.weights_[i]*stats.norm.pdf(x_plot, gm.means_[i], np.sqrt(gm.covariances_[i])).flatten())\n",
    "components = np.transpose(components)"
   ]
  },
  {
   "cell_type": "code",
   "execution_count": 55,
   "metadata": {},
   "outputs": [
    {
     "data": {
      "image/png": "[encoded data removed]",
      "text/plain": [
       "<matplotlib.figure.Figure at 0x10eef1d0>"
      ]
     },
     "metadata": {},
     "output_type": "display_data"
    }
   ],
   "source": [
    "plt.plot(x_plot, components);\n",
    "plt.plot(x_plot, np.sum(components, axis=1));"
   ]
  },
  {
   "cell_type": "code",
   "execution_count": 56,
   "metadata": {},
   "outputs": [
    {
     "data": {
      "text/plain": [
       "<matplotlib.legend.Legend at 0x1049be10>"
      ]
     },
     "execution_count": 56,
     "metadata": {},
     "output_type": "execute_result"
    },
    {
     "data": {
      "image/png": "[encoded data removed]",
      "text/plain": [
       "<matplotlib.figure.Figure at 0xfb42278>"
      ]
     },
     "metadata": {},
     "output_type": "display_data"
    }
   ],
   "source": [
    "from collections import OrderedDict\n",
    "\n",
    "fig3, ax3 = plt.subplots(figsize=(8, 6))\n",
    "ax3.hist(data, bins=64, normed=True, lw=0, alpha=0.5)\n",
    "ax3.plot(x_plot, np.sum(components, axis=1), color='k', label='Posterior expected density')\n",
    "ax3.plot(x_plot, components, '--', color='k', label='Posterior expected mixture\\ncomponents\\n(weighted)')\n",
    "ax3.plot(x_plot, t2_pdf, color='r', label=\"NMR T2 Data\")\n",
    "ax3.set_xticklabels(10 ** np.array(ax3.get_xticks().tolist()))\n",
    "ax3.set_xlabel('$T_{2} (ms)$')\n",
    "ax3.set_yticklabels([])\n",
    "ax3.set_ylabel('Density')\n",
    "ax3.legend(loc=2)\n",
    "handles, labels = plt.gca().get_legend_handles_labels()\n",
    "by_label = OrderedDict(zip(labels, handles))\n",
    "plt.legend(by_label.values(), by_label.keys())"
   ]
  },
  {
   "cell_type": "code",
   "execution_count": 57,
   "metadata": {},
   "outputs": [
    {
     "data": {
      "text/plain": [
       "array([  2.30109724e-01,   7.32827867e-02,   2.57703286e-01,\n",
       "         2.23093660e-01,   4.87457890e-04,   4.66935310e-04,\n",
       "         4.62117589e-04,   1.13457593e-01,   4.48055832e-04,\n",
       "         1.00483405e-01,   4.74079978e-06,   2.25752370e-07,\n",
       "         1.07501129e-08,   5.11910137e-10,   2.43766732e-11,\n",
       "         1.16079396e-12,   5.52759029e-14,   2.63218585e-15,\n",
       "         1.25342183e-16,   5.96867540e-18])"
      ]
     },
     "execution_count": 57,
     "metadata": {},
     "output_type": "execute_result"
    }
   ],
   "source": [
    "gm.weights_"
   ]
  },
  {
   "cell_type": "code",
   "execution_count": 58,
   "metadata": {},
   "outputs": [
    {
     "data": {
      "text/plain": [
       "(array([  2.30133886e+03,   7.33000000e+02,   2.57800812e+03,\n",
       "          2.23228918e+03,   4.87979300e+00,   4.67651622e+00,\n",
       "          4.63041592e+00,   1.13737371e+03,   4.49604605e+00,\n",
       "          1.00930736e+03,   1.00000000e+00,   1.00000000e+00,\n",
       "          1.00000000e+00,   1.00000000e+00,   1.00000000e+00,\n",
       "          1.00000000e+00,   1.00000000e+00,   1.00000000e+00,\n",
       "          1.00000000e+00,   1.00000000e+00]),\n",
       " array([  7.69971114e+03,   6.96771114e+03,   4.39070302e+03,\n",
       "          2.15941385e+03,   2.15553405e+03,   2.15185754e+03,\n",
       "          2.14822712e+03,   1.01185341e+03,   1.00835736e+03,\n",
       "          5.00000007e-02,   5.00000000e-02,   5.00000000e-02,\n",
       "          5.00000000e-02,   5.00000000e-02,   5.00000000e-02,\n",
       "          5.00000000e-02,   5.00000000e-02,   5.00000000e-02,\n",
       "          5.00000000e-02,   5.00000000e-02]))"
      ]
     },
     "execution_count": 58,
     "metadata": {},
     "output_type": "execute_result"
    }
   ],
   "source": [
    "gm.weight_concentration_"
   ]
  },
  {
   "cell_type": "code",
   "execution_count": null,
   "metadata": {
    "collapsed": true
   },
   "outputs": [],
   "source": []
  }
 ],
 "metadata": {
  "kernelspec": {
   "display_name": "Python [default]",
   "language": "python",
   "name": "python3"
  },
  "language_info": {
   "codemirror_mode": {
    "name": "ipython",
    "version": 3
   },
   "file_extension": ".py",
   "mimetype": "text/x-python",
   "name": "python",
   "nbconvert_exporter": "python",
   "pygments_lexer": "ipython3",
   "version": "3.5.2"
  }
 },
 "nbformat": 4,
 "nbformat_minor": 1
}
